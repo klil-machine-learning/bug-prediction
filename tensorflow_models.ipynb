{
 "cells": [
  {
   "cell_type": "code",
   "execution_count": 72,
   "metadata": {
    "collapsed": true
   },
   "outputs": [],
   "source": [
    "%matplotlib inline\n",
    "import tensorflow as tf\n",
    "import numpy as np\n",
    "import pandas as pd\n",
    "import bug_utils as bug\n",
    "import importlib\n",
    "import matplotlib.pyplot as plt\n",
    "importlib.reload(bug)\n",
    "from sklearn.model_selection import train_test_split\n",
    "from sklearn.ensemble import RandomForestRegressor\n",
    "from sklearn.linear_model import Ridge, LinearRegression\n",
    "from sklearn.preprocessing import normalize"
   ]
  },
  {
   "cell_type": "code",
   "execution_count": 19,
   "metadata": {
    "collapsed": true,
    "scrolled": true
   },
   "outputs": [],
   "source": [
    "# run1 = {\"data_sampler\": \"ordered\", \"n_samples\": 500, \"n_trains\":[20, 50, 200], \"n_labels\": [100], \n",
    "#         \"models\":[\"nn\"], \"fc_nn_sizes\" : [280, 230], \"train_features\": [\"A_x\",\"A_y\",\"B_x\",\"B_y\",\"C_x\",\"C_y\",\n",
    "#                                                                         \"dist_A_left\",\"dist_A_top\",\n",
    "#                                                                         \"dist_A_right\",\"dist_A_bottom\",\n",
    "#                                                                         \"dist_A_center\",\"dist_B_left\",\n",
    "#                                                                         \"dist_B_top\",\"dist_B_right\",\n",
    "#                                                                         \"dist_B_bottom\",\"dist_B_center\"], \n",
    "#         \"label_features\": ['C_x', 'C_y']}\n",
    "# b = bug.multi_run(run1, debug=True)"
   ]
  },
  {
   "cell_type": "code",
   "execution_count": 52,
   "metadata": {},
   "outputs": [],
   "source": [
    "train_all, label_all = bug.split_all_videos_random(500, 20, 100, \n",
    "                                        [\"A_x\",\"A_y\",\"B_x\",\"B_y\",\"C_x\",\"C_y\",\"dist_A_left\",\"dist_A_top\",\n",
    "                                         \"dist_A_right\",\"dist_A_bottom\",\"dist_A_center\",\"dist_B_left\",\n",
    "                                         \"dist_B_top\",\"dist_B_right\",\"dist_B_bottom\",\"dist_B_center\"], \n",
    "                                         [\"C_x\",\"C_y\"], \n",
    "                                         debug=False)\n",
    "# train_all = normalize(train_all)\n",
    "X_train, X_test, y_train, y_test = train_test_split(train_all, label_all, test_size=0.2)\n"
   ]
  },
  {
   "cell_type": "code",
   "execution_count": 53,
   "metadata": {
    "scrolled": false
   },
   "outputs": [
    {
     "name": "stdout",
     "output_type": "stream",
     "text": [
      "========== step  0\n",
      "train cost:  335.659\n",
      "test cost:  342.303\n",
      "========== step  200\n",
      "train cost:  167.474\n",
      "test cost:  178.902\n",
      "========== step  400\n",
      "train cost:  160.123\n",
      "test cost:  180.419\n",
      "========== step  600\n",
      "train cost:  154.943\n",
      "test cost:  181.079\n",
      "========== step  800\n",
      "train cost:  120.375\n",
      "test cost:  155.147\n",
      "========== step  1000\n",
      "train cost:  115.004\n",
      "test cost:  157.821\n",
      "========== step  1200\n",
      "train cost:  84.5793\n",
      "test cost:  140.156\n",
      "========== step  1400\n",
      "train cost:  67.4073\n",
      "test cost:  136.749\n",
      "========== step  1600\n",
      "train cost:  64.6477\n",
      "test cost:  141.016\n",
      "========== step  1800\n",
      "train cost:  59.792\n",
      "test cost:  143.415\n",
      "========== step  2000\n",
      "train cost:  57.9092\n",
      "test cost:  146.884\n",
      "========== step  2200\n",
      "train cost:  54.0235\n",
      "test cost:  143.42\n",
      "========== step  2400\n",
      "train cost:  50.0595\n",
      "test cost:  145.843\n",
      "========== step  2600\n",
      "train cost:  50.4666\n",
      "test cost:  150.318\n",
      "========== step  2800\n",
      "train cost:  48.411\n",
      "test cost:  149.433\n",
      "========== step  3000\n",
      "train cost:  45.1934\n",
      "test cost:  150.246\n",
      "========== step  3200\n",
      "train cost:  42.8132\n",
      "test cost:  152.175\n",
      "========== step  3400\n",
      "train cost:  43.4948\n",
      "test cost:  150.844\n",
      "========== step  3600\n",
      "train cost:  44.189\n",
      "test cost:  149.117\n",
      "========== step  3800\n",
      "train cost:  42.4463\n",
      "test cost:  154.283\n"
     ]
    }
   ],
   "source": [
    "cost, sess, X, hypothesis = bug.nn_run([280, 240], X_train, X_test, y_train, y_test, debug=True)\n"
   ]
  },
  {
   "cell_type": "code",
   "execution_count": 73,
   "metadata": {},
   "outputs": [
    {
     "data": {
      "image/png": "[encoded data removed]",
      "text/plain": [
       "<matplotlib.figure.Figure at 0x123e514e0>"
      ]
     },
     "metadata": {},
     "output_type": "display_data"
    }
   ],
   "source": [
    "train_one, label_one = bug.split_all_videos_random(1, 20, 100, \n",
    "                                        [\"A_x\",\"A_y\",\"B_x\",\"B_y\",\"C_x\",\"C_y\",\"dist_A_left\",\"dist_A_top\",\n",
    "                                         \"dist_A_right\",\"dist_A_bottom\",\"dist_A_center\",\"dist_B_left\",\n",
    "                                         \"dist_B_top\",\"dist_B_right\",\"dist_B_bottom\",\"dist_B_center\"], \n",
    "                                         [\"C_x\",\"C_y\"], \n",
    "                                         debug=False)\n",
    "preds = sess.run(hypothesis, feed_dict={X: train_one})\n",
    "train_one_pair = bug.reshape_df_for_show(train_one)\n",
    "label_one_pair = bug.reshape_df_for_show(label_one)\n",
    "preds_pair = bug.reshape_np_for_show(preds)\n",
    "bug.show_pred(train_one_pair, label_one_pair, reshaped.T)"
   ]
  },
  {
   "cell_type": "code",
   "execution_count": 66,
   "metadata": {
    "scrolled": false
   },
   "outputs": [
    {
     "name": "stdout",
     "output_type": "stream",
     "text": [
      "(1, 200)\n",
      "[[ 175.00643921   50.56248093  175.33474731   52.1624527   176.99441528\n",
      "    51.80986404  176.06124878   49.70049667  177.48083496   53.19006729\n",
      "   176.42353821   49.0583992   177.3697052    49.99844742  178.9233551\n",
      "    45.90215302  176.954422     47.36530304  177.97662354   46.34593964\n",
      "   176.70582581   45.59134674  177.37283325   45.07352448  175.22740173\n",
      "    46.17855453  176.35411072   43.67507935  174.80703735   43.91200638\n",
      "   173.95440674   44.55911255  175.41584778   47.94009781  176.58528137\n",
      "    47.39015198  172.27429199   50.74543762  174.64498901   48.2568512\n",
      "   172.41796875   49.72290421  173.89399719   51.15745163  174.47799683\n",
      "    59.80542755  177.97416687   58.3109169   172.93405151   56.92528534\n",
      "   176.00785828   57.10780716  171.68759155   57.19594574  175.8704071\n",
      "    60.46779251  175.11132812   64.9067688   178.66160583   66.54876709\n",
      "   178.85203552   69.74376678  176.36863708   69.65493774  173.36961365\n",
      "    71.12110138  173.06581116   65.26246643  175.75875854   68.79771423\n",
      "   171.78735352   64.20999146  175.1162262    67.23812866  176.34687805\n",
      "    64.74571991  173.67172241   69.57330322  170.23335266   66.34335327\n",
      "   170.5534668    63.97981262  171.16369629   64.96472931  177.99575806\n",
      "    59.21749115  175.29437256   66.10141754  169.70809937   57.67288589\n",
      "   173.2102356    62.01497269  171.45536804   60.4771347   173.1918335\n",
      "    63.05080414  170.99777222   61.78528976  174.47129822   63.24596405\n",
      "   171.41734314   58.19473648  168.78277588   59.66139984  171.2469635\n",
      "    58.10098267  165.16046143   53.31664276  168.88026428   51.96705246\n",
      "   169.83830261   51.97697067  166.05485535   51.40393829  162.41844177\n",
      "    48.71353531  163.67802429   43.94971848  161.77056885   46.12955475\n",
      "   159.20565796   42.64566803  155.37322998   43.36861038  159.87283325\n",
      "    41.92965698  156.17625427   37.53922653  156.31987      43.27508545\n",
      "   153.27479553   43.66207504  155.49765015   37.04018402  157.66194153\n",
      "    38.63153458  148.26174927   34.82304001  154.89761353   33.0855217\n",
      "   148.13233948   29.82544708  140.99565125   31.57158661  153.76893616\n",
      "    33.56156158  143.22383118   29.65326309  142.84260559   33.56568146\n",
      "   152.8865509    26.25841331  143.12857056   26.85841751  145.15635681\n",
      "    27.51418495  145.43870544   22.76915169  156.61349487   25.6366272\n",
      "   144.23045349   27.42802429  142.87969971   28.95048714  141.65063477\n",
      "    24.64272118  139.94137573   20.49798584  140.21366882   20.70467186\n",
      "   149.22114563   22.93898773  142.7217865    21.81935501  141.63685608\n",
      "    20.16365814  143.38746643   20.09174538  144.97123718   18.66090393\n",
      "   144.40611267   24.51963234  147.48521423   16.78138161  152.21559143\n",
      "    23.50952721  150.71087646   19.94165039  142.58979797   20.16167259\n",
      "   146.47975159   22.32718086  149.01255798   20.90483856  151.95529175\n",
      "    21.55733109  149.8994751    24.12957191  150.86679077   24.20345306]]\n",
      "[[ 175.00643921  175.33474731  176.99441528  176.06124878  177.48083496\n",
      "   176.42353821  177.3697052   178.9233551   176.954422    177.97662354\n",
      "   176.70582581  177.37283325  175.22740173  176.35411072  174.80703735\n",
      "   173.95440674  175.41584778  176.58528137  172.27429199  174.64498901\n",
      "   172.41796875  173.89399719  174.47799683  177.97416687  172.93405151\n",
      "   176.00785828  171.68759155  175.8704071   175.11132812  178.66160583\n",
      "   178.85203552  176.36863708  173.36961365  173.06581116  175.75875854\n",
      "   171.78735352  175.1162262   176.34687805  173.67172241  170.23335266\n",
      "   170.5534668   171.16369629  177.99575806  175.29437256  169.70809937\n",
      "   173.2102356   171.45536804  173.1918335   170.99777222  174.47129822\n",
      "   171.41734314  168.78277588  171.2469635   165.16046143  168.88026428\n",
      "   169.83830261  166.05485535  162.41844177  163.67802429  161.77056885\n",
      "   159.20565796  155.37322998  159.87283325  156.17625427  156.31987\n",
      "   153.27479553  155.49765015  157.66194153  148.26174927  154.89761353\n",
      "   148.13233948  140.99565125  153.76893616  143.22383118  142.84260559\n",
      "   152.8865509   143.12857056  145.15635681  145.43870544  156.61349487\n",
      "   144.23045349  142.87969971  141.65063477  139.94137573  140.21366882\n",
      "   149.22114563  142.7217865   141.63685608  143.38746643  144.97123718\n",
      "   144.40611267  147.48521423  152.21559143  150.71087646  142.58979797\n",
      "   146.47975159  149.01255798  151.95529175  149.8994751   150.86679077]\n",
      " [  50.56248093   52.1624527    51.80986404   49.70049667   53.19006729\n",
      "    49.0583992    49.99844742   45.90215302   47.36530304   46.34593964\n",
      "    45.59134674   45.07352448   46.17855453   43.67507935   43.91200638\n",
      "    44.55911255   47.94009781   47.39015198   50.74543762   48.2568512\n",
      "    49.72290421   51.15745163   59.80542755   58.3109169    56.92528534\n",
      "    57.10780716   57.19594574   60.46779251   64.9067688    66.54876709\n",
      "    69.74376678   69.65493774   71.12110138   65.26246643   68.79771423\n",
      "    64.20999146   67.23812866   64.74571991   69.57330322   66.34335327\n",
      "    63.97981262   64.96472931   59.21749115   66.10141754   57.67288589\n",
      "    62.01497269   60.4771347    63.05080414   61.78528976   63.24596405\n",
      "    58.19473648   59.66139984   58.10098267   53.31664276   51.96705246\n",
      "    51.97697067   51.40393829   48.71353531   43.94971848   46.12955475\n",
      "    42.64566803   43.36861038   41.92965698   37.53922653   43.27508545\n",
      "    43.66207504   37.04018402   38.63153458   34.82304001   33.0855217\n",
      "    29.82544708   31.57158661   33.56156158   29.65326309   33.56568146\n",
      "    26.25841331   26.85841751   27.51418495   22.76915169   25.6366272\n",
      "    27.42802429   28.95048714   24.64272118   20.49798584   20.70467186\n",
      "    22.93898773   21.81935501   20.16365814   20.09174538   18.66090393\n",
      "    24.51963234   16.78138161   23.50952721   19.94165039   20.16167259\n",
      "    22.32718086   20.90483856   21.55733109   24.12957191   24.20345306]]\n"
     ]
    }
   ],
   "source": [
    "# print(train_one.shape)\n",
    "# print(train_one)\n",
    "# print(train_one_pair.shape)\n",
    "# print(train_one_pair)\n",
    "# xs = train_one.iloc[0].loc[:, 'C_x'].values\n",
    "# ys = train_one.iloc[0].loc[:, 'C_y'].values\n",
    "# print(xs)\n",
    "# print(ys)\n",
    "# print(preds)\n",
    "# print(preds_pairs)\n",
    "print(preds.shape)\n",
    "print(preds)\n",
    "reshaped = (preds.reshape(int(preds.shape[1]/2), 2))\n",
    "print(reshaped.T)"
   ]
  },
  {
   "cell_type": "code",
   "execution_count": 130,
   "metadata": {},
   "outputs": [
    {
     "name": "stdout",
     "output_type": "stream",
     "text": [
      "100.0\n"
     ]
    },
    {
     "data": {
      "text/plain": [
       "[<matplotlib.lines.Line2D at 0x134339ef0>]"
      ]
     },
     "execution_count": 130,
     "metadata": {},
     "output_type": "execute_result"
    },
    {
     "data": {
      "image/png": "[encoded data removed]",
      "text/plain": [
       "<matplotlib.figure.Figure at 0x133c74128>"
      ]
     },
     "metadata": {},
     "output_type": "display_data"
    }
   ],
   "source": [
    "one_run = y_test.values[0]\n",
    "print(one_run.shape[0]/2)\n",
    "something =(y_test.values.reshape([int(one_run.shape[0]/2), 2]))\n",
    "plt.plot(something[:,0], something[:,1])\n"
   ]
  },
  {
   "cell_type": "code",
   "execution_count": 130,
   "metadata": {},
   "outputs": [
    {
     "name": "stdout",
     "output_type": "stream",
     "text": [
      "100.0\n"
     ]
    },
    {
     "data": {
      "text/plain": [
       "[<matplotlib.lines.Line2D at 0x134339ef0>]"
      ]
     },
     "execution_count": 130,
     "metadata": {},
     "output_type": "execute_result"
    },
    {
     "data": {
      "image/png": "[encoded data removed]",
      "text/plain": [
       "<matplotlib.figure.Figure at 0x133c74128>"
      ]
     },
     "metadata": {},
     "output_type": "display_data"
    }
   ],
   "source": [
    "one_run = y_test.values[0]\n",
    "print(one_run.shape[0]/2)\n",
    "something =(y_test.values.reshape([int(one_run.shape[0]/2), 2]))\n",
    "plt.plot(something[:,0], something[:,1])\n"
   ]
  },
  {
   "cell_type": "code",
   "execution_count": 115,
   "metadata": {},
   "outputs": [
    {
     "data": {
      "text/plain": [
       "[<matplotlib.lines.Line2D at 0x13295fc50>]"
      ]
     },
     "execution_count": 115,
     "metadata": {},
     "output_type": "execute_result"
    },
    {
     "data": {
      "image/png": "[encoded data removed]",
      "text/plain": [
       "<matplotlib.figure.Figure at 0x13295f9e8>"
      ]
     },
     "metadata": {},
     "output_type": "display_data"
    }
   ],
   "source": [
    "fig, ax = plt.subplots(figsize=(7,5))\n",
    "ax.plot(reshaped_one_run[:,0], reshaped_one_run[:,1], 'b.')"
   ]
  },
  {
   "cell_type": "code",
   "execution_count": null,
   "metadata": {
    "collapsed": true
   },
   "outputs": [],
   "source": []
  },
  {
   "cell_type": "code",
   "execution_count": 144,
   "metadata": {},
   "outputs": [
    {
     "name": "stdout",
     "output_type": "stream",
     "text": [
      "[1 2 3]\n"
     ]
    }
   ],
   "source": [
    "x = np.array([1,2,3])\n",
    "print(x)"
   ]
  },
  {
   "cell_type": "code",
   "execution_count": null,
   "metadata": {
    "collapsed": true
   },
   "outputs": [],
   "source": []
  }
 ],
 "metadata": {
  "kernelspec": {
   "display_name": "Python [conda env:py36tf]",
   "language": "python",
   "name": "conda-env-py36tf-py"
  },
  "language_info": {
   "codemirror_mode": {
    "name": "ipython",
    "version": 3
   },
   "file_extension": ".py",
   "mimetype": "text/x-python",
   "name": "python",
   "nbconvert_exporter": "python",
   "pygments_lexer": "ipython3",
   "version": "3.6.1"
  }
 },
 "nbformat": 4,
 "nbformat_minor": 2
}
